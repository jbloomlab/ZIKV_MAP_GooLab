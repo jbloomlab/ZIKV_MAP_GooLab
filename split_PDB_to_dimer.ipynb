{
 "cells": [
  {
   "cell_type": "markdown",
   "id": "25c4312c-264c-4fd0-8d1e-7873eecbacb5",
   "metadata": {},
   "source": [
    "## Generate E dimer structures\n",
    "There are a number of ZIKV virion Cryo-EM structures with published PDB files. We need to split these PDB files into homodimers, ideally for each chain (A, C, E), so we can visualize our DMS results on the E dimer rather than E monomer. \n",
    "\n",
    "This is key especially for EDE1 antibodies, which target the E dimer interface in slightly different manner for all three E dimer symmetries."
   ]
  },
  {
   "cell_type": "code",
   "execution_count": 1,
   "id": "f8cb72d2-e6b1-4307-bb50-4bf68358d245",
   "metadata": {},
   "outputs": [],
   "source": [
    "# import packages\n",
    "from Bio import PDB\n",
    "import os"
   ]
  },
  {
   "cell_type": "code",
   "execution_count": 2,
   "id": "6e1296b3-a906-4e4e-876e-20ff6b0cf537",
   "metadata": {},
   "outputs": [],
   "source": [
    "# identify which PDB files\n",
    "pdb_5ire = './data/5ire.pdb'"
   ]
  },
  {
   "cell_type": "code",
   "execution_count": 3,
   "id": "e38ab55a-9021-44a8-8192-4c331e9fe5f5",
   "metadata": {},
   "outputs": [],
   "source": [
    "# identify out directory\n",
    "datadir = './data/'"
   ]
  },
  {
   "cell_type": "code",
   "execution_count": 4,
   "id": "ac019ee9-f06b-4add-8af7-3e1cb4cb39ba",
   "metadata": {},
   "outputs": [
    {
     "name": "stdout",
     "output_type": "stream",
     "text": [
      "TER    3168      ALA A 501                                                      \n",
      "\n",
      "TER    3625      SER B  75                                                      \n",
      "\n",
      "TER    7308      SER D  75                                                      \n",
      "\n",
      "TER   10946      SER F  75                                                      \n",
      "\n"
     ]
    }
   ],
   "source": [
    "# new file for dimer\n",
    "dimer_file = os.path.join(datadir + '5ire_dimer.pdb')\n",
    "dimer = open(dimer_file,'w')\n",
    "\n",
    "# loop through PDB files to choose chains\n",
    "with open(pdb_5ire) as pdb:\n",
    "    for line in pdb:\n",
    "        res_index = line[7:11]\n",
    "        chain = line[21]\n",
    "\n",
    "        # only split the atoms/chains we're interested in\n",
    "        if line[:4] == 'ATOM':\n",
    "            if chain == 'C' or chain == 'E':\n",
    "                dimer.write(line[:-1])\n",
    "                dimer.write('\\n')\n",
    "                \n",
    "        # add lines that will skip the terminal atoms of chains A, B, etc.\n",
    "        if line[:3] == 'TER':\n",
    "            if chain == 'C' or chain == 'E':\n",
    "                dimer.write(line[:-1])\n",
    "                dimer.write('\\n')\n",
    "            else:\n",
    "                print(line)\n",
    "        \n",
    "        # keep all the other meta data and structural remarks, etc.\n",
    "        else:\n",
    "            dimer.write(line[:-1])\n",
    "            dimer.write('\\n')\n",
    "                    \n",
    "dimer.close()"
   ]
  }
 ],
 "metadata": {
  "kernelspec": {
   "display_name": "Python 3 (ipykernel)",
   "language": "python",
   "name": "python3"
  },
  "language_info": {
   "codemirror_mode": {
    "name": "ipython",
    "version": 3
   },
   "file_extension": ".py",
   "mimetype": "text/x-python",
   "name": "python",
   "nbconvert_exporter": "python",
   "pygments_lexer": "ipython3",
   "version": "3.8.13"
  }
 },
 "nbformat": 4,
 "nbformat_minor": 5
}
