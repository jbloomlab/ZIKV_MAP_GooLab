{
 "cells": [
  {
   "cell_type": "markdown",
   "id": "ba8a71e8-6f01-4902-a845-ff592a26d6e1",
   "metadata": {},
   "source": [
    "# Figure generation using polyclonal\n",
    "We would like to use some functions from polyclonal to visualize the selections datsets. \n",
    "\n",
    "\n",
    "Note: running this notebook requires the conda environment specified in \"environment_polyclonal.yml\""
   ]
  },
  {
   "cell_type": "code",
   "execution_count": 1,
   "id": "e394d9d3-4fd1-4cff-ab07-9d8a2fa7ec0b",
   "metadata": {},
   "outputs": [],
   "source": [
    "# load modules\n",
    "import os\n",
    "import glob\n",
    "import numpy\n",
    "import pandas as pd\n",
    "import scipy\n",
    "import collections \n",
    "import requests\n",
    "import tempfile\n",
    "import altair as alt\n",
    "\n",
    "import polyclonal\n",
    "from polyclonal import pdb_utils"
   ]
  },
  {
   "cell_type": "code",
   "execution_count": 2,
   "id": "b853bf1e-0c91-4ee3-b105-4f306dab2320",
   "metadata": {},
   "outputs": [],
   "source": [
    "# identify data and results directory\n",
    "datadir = \"./data\"\n",
    "resultsdir = \"./results\"\n",
    "reassignedpdbdir = os.path.join(resultsdir, 'reassignedpdb')"
   ]
  },
  {
   "cell_type": "markdown",
   "id": "1bbfc36a-fa2a-4e64-bb0e-fccc552fff8c",
   "metadata": {},
   "source": [
    "## Reassign b-factor in PDB files\n",
    "We want to assign the b-factor column in PDB files with data from our selections. This will allow us to visualize in PyMOL, which gives us greater flexibility in figure generation than dms-view. "
   ]
  },
  {
   "cell_type": "code",
   "execution_count": 3,
   "id": "c53cec24-b766-411f-94e0-4dd7d75b6cf7",
   "metadata": {},
   "outputs": [],
   "source": [
    "# generate files using these polyclonal input files\n",
    "files = ['alldiffsel.csv']"
   ]
  },
  {
   "cell_type": "code",
   "execution_count": 4,
   "id": "44ea7fdd-aac6-4175-94c2-a7506df86d62",
   "metadata": {},
   "outputs": [],
   "source": [
    "# identify PDB files\n",
    "pdb_url = 'https://files.rcsb.org/download/5IRE.pdb'"
   ]
  },
  {
   "cell_type": "code",
   "execution_count": 5,
   "id": "c4d7b430-c81c-4fe8-8bd9-459b3f71006d",
   "metadata": {},
   "outputs": [
    {
     "name": "stdout",
     "output_type": "stream",
     "text": [
      "Generating reassigned B-factor PDB file for EDE1_C10...\n",
      "Generating reassigned B-factor PDB file for EDE1_C8...\n",
      "Generating reassigned B-factor PDB file for MZ4...\n",
      "Generating reassigned B-factor PDB file for SIgN-3C...\n",
      "Generating reassigned B-factor PDB file for ZV_67...\n"
     ]
    }
   ],
   "source": [
    "# generate files for this antibody\n",
    "antibodylist = ['EDE1_C10',\n",
    "                'EDE1_C8',\n",
    "                'MZ4',\n",
    "                'SIgN-3C',\n",
    "                'ZV_67']\n",
    "\n",
    "# generate files using these dms-data\n",
    "# polyclonal_datafiles = ['dimer_polyclonal_data.csv']\n",
    "\n",
    "# create dict missing_metric that assigns -1 to sites with missing metrics in chain C, and 0 to sites in other chains:\n",
    "missing_metric = collections.defaultdict(lambda: 0)\n",
    "missing_metric['C'] = -1\n",
    "\n",
    "# identify input dms data\n",
    "for antibody in antibodylist:\n",
    "    print(f'Generating reassigned B-factor PDB file for {antibody}...')\n",
    "    for data in files:\n",
    "        dms_data = os.path.join(reassignedpdbdir, data)\n",
    "        df = (pd.read_csv(dms_data, index_col=False)\n",
    "              .drop(['label_site','site',\n",
    "                     # 'wildtype','mutation'\n",
    "                    ], axis=1)\n",
    "              .rename(columns=({'protein_chain':'chain',\n",
    "                                'protein_site':'site'}))\n",
    "              .drop_duplicates()\n",
    "              .dropna()\n",
    "              .query('condition == \"' + str(antibody) + '\"')\n",
    "                  # [['site','wildtype','mutation','condition',\n",
    "                  #   'site_abs_diffsel','site_positive_diffsel',\n",
    "                  #   'site_max_diffsel','site_min_diffsel']]\n",
    "                 )\n",
    "\n",
    "        # download PDB, re-assign B factors, read the lines from the resulting re-assigned PDB:\n",
    "        r = requests.get(pdb_url)\n",
    "        with tempfile.TemporaryDirectory() as tmpdir:\n",
    "           original_pdbfile = os.path.join(tmpdir, 'original.pdb')\n",
    "           with open(original_pdbfile, 'wb') as f:\n",
    "               _ = f.write(r.content)\n",
    "           reassigned_pdbfile = os.path.join(tmpdir, 'reassigned.pdb')\n",
    "           pdb_utils.reassign_b_factor(input_pdbfile=original_pdbfile,\n",
    "                             output_pdbfile=reassigned_pdbfile,\n",
    "                             df=df,\n",
    "                             metric_col='positive_diffsel',\n",
    "                             missing_metric=missing_metric)\n",
    "           pdb_text = open(reassigned_pdbfile).readlines()\n",
    "        # save reassigned pdbfiles\n",
    "        outfile = os.path.join(reassignedpdbdir + f\"/{antibody}_5IRE.pdb\")\n",
    "\n",
    "        with open(outfile, 'w') as f:\n",
    "            for line in pdb_text:\n",
    "                f.write(f\"{line}\\n\")"
   ]
  },
  {
   "cell_type": "code",
   "execution_count": 6,
   "id": "44e8eb6b-d0e3-4121-848c-77e20c1aae53",
   "metadata": {},
   "outputs": [
    {
     "name": "stdout",
     "output_type": "stream",
     "text": [
      "ATOM      1  N   ILE A   1    -161.070 -67.005-130.595  1.00  0.00           N\n"
     ]
    }
   ],
   "source": [
    "# peak at a single strip of PDB file\n",
    "print(pdb_text[0].strip())"
   ]
  },
  {
   "cell_type": "code",
   "execution_count": 7,
   "id": "b7d1457c-0086-4865-876b-e61cc7f68d15",
   "metadata": {},
   "outputs": [
    {
     "name": "stdout",
     "output_type": "stream",
     "text": [
      "ATOM   5009  N   THR C 205    -109.384-140.147-124.230  1.00  0.00           N\n",
      "ATOM   5010  CA  THR C 205    -109.051-140.764-125.507  1.00  0.00           C\n",
      "ATOM   5011  C   THR C 205    -109.063-139.722-126.612  1.00  0.00           C\n",
      "ATOM   5012  O   THR C 205    -110.125-139.192-126.945  1.00  0.00           O\n",
      "ATOM   5013  CB  THR C 205    -110.053-141.848-125.872  1.00  0.00           C\n",
      "ATOM   5014  OG1 THR C 205    -111.313-141.232-126.144  1.00  0.00           O\n",
      "ATOM   5015  CG2 THR C 205    -110.243-142.777-124.728  1.00  0.00           C\n",
      "ATOM   5016  N   MET C 206    -107.908-139.468-127.207  1.00  0.08           N\n",
      "ATOM   5017  CA  MET C 206    -107.863-138.843-128.515  1.00  0.08           C\n",
      "ATOM   5018  C   MET C 206    -108.099-139.927-129.555  1.00  0.08           C\n",
      "ATOM   5019  O   MET C 206    -108.562-141.018-129.234  1.00  0.08           O\n",
      "ATOM   5020  CB  MET C 206    -106.543-138.126-128.743  1.00  0.08           C\n",
      "ATOM   5021  CG  MET C 206    -106.392-136.871-127.937  1.00  0.08           C\n",
      "ATOM   5022  SD  MET C 206    -107.729-135.751-128.311  1.00  0.08           S\n",
      "ATOM   5023  CE  MET C 206    -107.493-135.468-130.068  1.00  0.08           C\n"
     ]
    }
   ],
   "source": [
    "# peak at single strip of PDB file\n",
    "print('\\n'.join(line.strip() for line in pdb_text[5010: 5025]))"
   ]
  },
  {
   "cell_type": "code",
   "execution_count": null,
   "id": "1858c40f-eccb-48bc-bb98-69387ae2d4cb",
   "metadata": {},
   "outputs": [],
   "source": []
  }
 ],
 "metadata": {
  "kernelspec": {
   "display_name": "Python 3 (ipykernel)",
   "language": "python",
   "name": "python3"
  },
  "language_info": {
   "codemirror_mode": {
    "name": "ipython",
    "version": 3
   },
   "file_extension": ".py",
   "mimetype": "text/x-python",
   "name": "python",
   "nbconvert_exporter": "python",
   "pygments_lexer": "ipython3",
   "version": "3.8.13"
  }
 },
 "nbformat": 4,
 "nbformat_minor": 5
}
